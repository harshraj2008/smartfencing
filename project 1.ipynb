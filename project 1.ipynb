{
 "cells": [
  {
   "cell_type": "code",
   "execution_count": 1,
   "id": "add5d87d-b992-432b-b5d0-94c052257daf",
   "metadata": {},
   "outputs": [],
   "source": [
    "import tensorflow as tf\n",
    "import numpy as np\n",
    "import pandas as pd\n",
    "import seaborn as sns\n",
    "import matplotlib.pyplot as plt"
   ]
  },
  {
   "cell_type": "code",
   "execution_count": 5,
   "id": "ed5bbe1c-1d63-4d07-ba4a-692f43a3e959",
   "metadata": {},
   "outputs": [
    {
     "name": "stdout",
     "output_type": "stream",
     "text": [
      "Found 478 files belonging to 8 classes.\n"
     ]
    }
   ],
   "source": [
    "training_set= tf.keras.utils.image_dataset_from_directory(\n",
    "    'animal',\n",
    "    labels=\"inferred\",\n",
    "    label_mode=\"categorical\",\n",
    "    class_names=None,\n",
    "    color_mode=\"rgb\",\n",
    "    batch_size=32,\n",
    "    image_size=(128, 128),\n",
    "    shuffle=True,\n",
    "    seed=None,\n",
    "    validation_split=None,\n",
    "    subset=None,\n",
    "    interpolation=\"bilinear\",\n",
    "    follow_links=False,\n",
    "    crop_to_aspect_ratio=False,\n",
    "    pad_to_aspect_ratio=False,\n",
    "    data_format=None,\n",
    "    verbose=True,\n",
    ")"
   ]
  },
  {
   "cell_type": "code",
   "execution_count": 6,
   "id": "fc232b29-c2b6-4a25-b1ab-931ecf6ec09d",
   "metadata": {},
   "outputs": [
    {
     "name": "stdout",
     "output_type": "stream",
     "text": [
      "Found 478 files belonging to 8 classes.\n"
     ]
    }
   ],
   "source": [
    "validation_set= tf.keras.utils.image_dataset_from_directory(\n",
    "    'animal',\n",
    "    labels=\"inferred\",\n",
    "    label_mode=\"categorical\",\n",
    "    class_names=None,\n",
    "    color_mode=\"rgb\",\n",
    "    batch_size=32,\n",
    "    image_size=(128, 128),\n",
    "    shuffle=True,\n",
    "    seed=None,\n",
    "    validation_split=None,\n",
    "    subset=None,\n",
    "    interpolation=\"bilinear\",\n",
    "    follow_links=False,\n",
    "    crop_to_aspect_ratio=False,\n",
    "    pad_to_aspect_ratio=False,\n",
    "    data_format=None,\n",
    "    verbose=True,\n",
    ")"
   ]
  },
  {
   "cell_type": "code",
   "execution_count": 7,
   "id": "ef15a8a3-7d47-4512-91ad-bce29934f629",
   "metadata": {},
   "outputs": [
    {
     "data": {
      "text/plain": [
       "<_PrefetchDataset element_spec=(TensorSpec(shape=(None, 128, 128, 3), dtype=tf.float32, name=None), TensorSpec(shape=(None, 8), dtype=tf.float32, name=None))>"
      ]
     },
     "execution_count": 7,
     "metadata": {},
     "output_type": "execute_result"
    }
   ],
   "source": [
    "training_set"
   ]
  },
  {
   "cell_type": "code",
   "execution_count": 8,
   "id": "691c4a7d-ba1a-49e3-8eab-62bbe6d9b85c",
   "metadata": {},
   "outputs": [
    {
     "name": "stdout",
     "output_type": "stream",
     "text": [
      "tf.Tensor(\n",
      "[[[[1.71957031e+02 1.63623077e+02 1.53721695e+02]\n",
      "   [1.47798264e+02 1.42345139e+02 1.25661545e+02]\n",
      "   [7.36829834e+01 7.52611084e+01 5.22554016e+01]\n",
      "   ...\n",
      "   [5.12650452e+01 1.05233795e+02 6.48089142e+01]\n",
      "   [8.38714600e+01 1.37662384e+02 8.90519867e+01]\n",
      "   [1.04647949e+02 1.60602997e+02 1.12255341e+02]]\n",
      "\n",
      "  [[1.76763397e+02 1.72069946e+02 1.58933228e+02]\n",
      "   [1.63308014e+02 1.60581451e+02 1.43208679e+02]\n",
      "   [9.58996429e+01 9.84777679e+01 7.78566742e+01]\n",
      "   ...\n",
      "   [2.61532135e+01 7.34696198e+01 4.98343964e+01]\n",
      "   [3.84210358e+01 8.64826965e+01 5.90672455e+01]\n",
      "   [7.18666077e+01 1.20855911e+02 9.40220184e+01]]\n",
      "\n",
      "  [[1.67923080e+02 1.65752106e+02 1.53632217e+02]\n",
      "   [1.64203461e+02 1.62493729e+02 1.47146072e+02]\n",
      "   [1.17543304e+02 1.20310120e+02 1.03204651e+02]\n",
      "   ...\n",
      "   [1.10880585e+01 5.48882446e+01 2.37310638e+01]\n",
      "   [2.40712280e+01 6.47545319e+01 3.91427460e+01]\n",
      "   [2.08636017e+01 6.40745392e+01 3.77073517e+01]]\n",
      "\n",
      "  ...\n",
      "\n",
      "  [[3.33290253e+01 2.32178497e+01 1.78846130e+01]\n",
      "   [4.04550018e+01 2.99105377e+01 2.36827698e+01]\n",
      "   [3.15783081e+01 2.09779358e+01 1.47781219e+01]\n",
      "   ...\n",
      "   [1.41054504e+02 1.28148849e+02 1.20454132e+02]\n",
      "   [1.46760513e+02 1.32187500e+02 1.34264130e+02]\n",
      "   [9.07171783e+01 7.98394775e+01 8.11273346e+01]]\n",
      "\n",
      "  [[7.86274109e+01 7.13539734e+01 6.34906921e+01]\n",
      "   [1.06635880e+02 9.93624420e+01 9.14991608e+01]\n",
      "   [9.13951569e+01 8.41217194e+01 7.62584381e+01]\n",
      "   ...\n",
      "   [1.03376785e+02 8.78467407e+01 7.32397766e+01]\n",
      "   [1.10764816e+02 9.35664368e+01 9.25100708e+01]\n",
      "   [9.44206390e+01 8.33893890e+01 8.07789917e+01]]\n",
      "\n",
      "  [[9.21156311e+01 8.39583588e+01 7.92142487e+01]\n",
      "   [9.02971344e+01 8.29307861e+01 7.84357147e+01]\n",
      "   [5.32337952e+01 4.92650452e+01 4.37407074e+01]\n",
      "   ...\n",
      "   [9.95574036e+01 8.94717712e+01 6.23497772e+01]\n",
      "   [8.47178040e+01 7.66739960e+01 6.85802460e+01]\n",
      "   [1.19648209e+02 1.14558304e+02 1.07739975e+02]]]\n",
      "\n",
      "\n",
      " [[[4.66491089e+01 4.72545776e+01 4.92545776e+01]\n",
      "   [6.28913269e+01 6.81569519e+01 6.47077332e+01]\n",
      "   [3.42786865e+01 4.73607178e+01 3.73333740e+01]\n",
      "   ...\n",
      "   [9.19718628e+01 9.19772034e+01 9.15265503e+01]\n",
      "   [8.67188110e+01 8.57188110e+01 9.08665466e+01]\n",
      "   [1.82271912e+02 1.81271912e+02 1.87153656e+02]]\n",
      "\n",
      "  [[3.43912354e+01 3.49967041e+01 3.69967041e+01]\n",
      "   [5.42499695e+01 5.95155945e+01 5.60663757e+01]\n",
      "   [4.44586792e+01 5.75407104e+01 4.75133667e+01]\n",
      "   ...\n",
      "   [8.83183899e+01 8.83457336e+01 8.62637024e+01]\n",
      "   [6.15945435e+01 6.11804810e+01 6.44226685e+01]\n",
      "   [1.02289093e+02 1.01643860e+02 1.05742920e+02]]\n",
      "\n",
      "  [[2.92882690e+01 2.93024597e+01 3.01199036e+01]\n",
      "   [6.22848816e+01 6.75505066e+01 6.41012878e+01]\n",
      "   [3.47537231e+01 4.68324890e+01 3.67517395e+01]\n",
      "   ...\n",
      "   [8.34805298e+01 8.44577332e+01 7.94994202e+01]\n",
      "   [6.98728333e+01 6.98728333e+01 6.83251648e+01]\n",
      "   [1.02797607e+02 1.02788361e+02 1.02862976e+02]]\n",
      "\n",
      "  ...\n",
      "\n",
      "  [[1.70822418e+02 1.54596252e+02 1.50822418e+02]\n",
      "   [1.50005005e+02 1.34396820e+02 1.30005005e+02]\n",
      "   [1.71702271e+02 1.56551849e+02 1.51702271e+02]\n",
      "   ...\n",
      "   [1.75132233e+02 1.79049561e+02 1.77987701e+02]\n",
      "   [1.97659302e+02 2.07776886e+02 2.10592102e+02]\n",
      "   [2.05873566e+02 2.18803253e+02 2.27211975e+02]]\n",
      "\n",
      "  [[1.80855835e+02 1.62027710e+02 1.60441772e+02]\n",
      "   [1.75238434e+02 1.56410309e+02 1.54824371e+02]\n",
      "   [1.65939575e+02 1.47525513e+02 1.44697388e+02]\n",
      "   ...\n",
      "   [1.85337982e+02 1.88031708e+02 1.90203186e+02]\n",
      "   [2.01291168e+02 2.07002106e+02 2.13447723e+02]\n",
      "   [2.00354767e+02 2.09112579e+02 2.16870392e+02]]\n",
      "\n",
      "  [[1.68437042e+02 1.47632355e+02 1.46632355e+02]\n",
      "   [2.19279541e+02 1.98474854e+02 1.97474854e+02]\n",
      "   [1.48514130e+02 1.27904755e+02 1.24709442e+02]\n",
      "   ...\n",
      "   [1.90371094e+02 1.91371094e+02 1.96165100e+02]\n",
      "   [2.02645233e+02 2.03746094e+02 2.11367188e+02]\n",
      "   [2.02096588e+02 2.06512787e+02 2.12365051e+02]]]\n",
      "\n",
      "\n",
      " [[[2.52753906e+02 2.52753906e+02 2.52753906e+02]\n",
      "   [2.53960724e+02 2.53960724e+02 2.53960724e+02]\n",
      "   [2.50782196e+02 2.50782196e+02 2.50782196e+02]\n",
      "   ...\n",
      "   [2.54079071e+02 2.54079071e+02 2.54079071e+02]\n",
      "   [2.37707031e+02 2.37707031e+02 2.37707031e+02]\n",
      "   [2.37101776e+02 2.37101776e+02 2.37101776e+02]]\n",
      "\n",
      "  [[2.54472656e+02 2.54472656e+02 2.54472656e+02]\n",
      "   [2.53375000e+02 2.53375000e+02 2.53375000e+02]\n",
      "   [2.47335938e+02 2.47335938e+02 2.47335938e+02]\n",
      "   ...\n",
      "   [2.53911926e+02 2.53911926e+02 2.53911926e+02]\n",
      "   [2.42345734e+02 2.42345734e+02 2.42345734e+02]\n",
      "   [2.38500854e+02 2.38500854e+02 2.38500854e+02]]\n",
      "\n",
      "  [[2.50832031e+02 2.50832031e+02 2.50832031e+02]\n",
      "   [2.47960938e+02 2.47960938e+02 2.47960938e+02]\n",
      "   [2.43482727e+02 2.43482727e+02 2.43482727e+02]\n",
      "   ...\n",
      "   [2.48299347e+02 2.48299347e+02 2.48299347e+02]\n",
      "   [2.47774841e+02 2.47774841e+02 2.47774841e+02]\n",
      "   [2.43220764e+02 2.43220764e+02 2.43220764e+02]]\n",
      "\n",
      "  ...\n",
      "\n",
      "  [[2.51174713e+02 2.51174713e+02 2.51174713e+02]\n",
      "   [2.54066406e+02 2.54066406e+02 2.54066406e+02]\n",
      "   [2.50944702e+02 2.50944702e+02 2.50944702e+02]\n",
      "   ...\n",
      "   [2.51696960e+02 2.51696960e+02 2.51696960e+02]\n",
      "   [2.40224426e+02 2.40224426e+02 2.40224426e+02]\n",
      "   [2.35794037e+02 2.35794037e+02 2.35794037e+02]]\n",
      "\n",
      "  [[2.53422516e+02 2.53422516e+02 2.53422516e+02]\n",
      "   [2.54074860e+02 2.54074860e+02 2.54074860e+02]\n",
      "   [2.50512085e+02 2.50512085e+02 2.50512085e+02]\n",
      "   ...\n",
      "   [2.52594116e+02 2.52594116e+02 2.52594116e+02]\n",
      "   [2.38427765e+02 2.38427765e+02 2.38427765e+02]\n",
      "   [2.36480896e+02 2.36480896e+02 2.36480896e+02]]\n",
      "\n",
      "  [[2.54367188e+02 2.54367188e+02 2.54367188e+02]\n",
      "   [2.53898438e+02 2.53898438e+02 2.53898438e+02]\n",
      "   [2.49656250e+02 2.49656250e+02 2.49656250e+02]\n",
      "   ...\n",
      "   [2.53179688e+02 2.53179688e+02 2.53179688e+02]\n",
      "   [2.39117188e+02 2.39117188e+02 2.39117188e+02]\n",
      "   [2.37164062e+02 2.37164062e+02 2.37164062e+02]]]\n",
      "\n",
      "\n",
      " ...\n",
      "\n",
      "\n",
      " [[[7.66271973e+01 1.06518707e+02 4.13793335e+01]\n",
      "   [5.92972412e+01 9.69730225e+01 2.81166077e+01]\n",
      "   [5.53834839e+01 1.04176453e+02 2.93902893e+01]\n",
      "   ...\n",
      "   [1.45939545e+02 9.99556885e+01 7.18546448e+01]\n",
      "   [7.22671204e+01 2.74691467e+01 6.35165405e+00]\n",
      "   [8.66132202e+01 4.54179077e+01 2.66132202e+01]]\n",
      "\n",
      "  [[2.83470764e+01 5.90280151e+01 3.87722778e+00]\n",
      "   [7.27403564e+01 1.10416138e+02 4.65376892e+01]\n",
      "   [5.65506592e+01 1.04047516e+02 4.23577576e+01]\n",
      "   ...\n",
      "   [1.20019257e+02 6.94747314e+01 3.59489441e+01]\n",
      "   [1.53050720e+02 1.14275360e+02 8.14783325e+01]\n",
      "   [1.19534210e+02 9.59092102e+01 6.18545227e+01]]\n",
      "\n",
      "  [[1.78504944e+01 4.95999756e+01 0.00000000e+00]\n",
      "   [5.02911377e+01 9.00098877e+01 2.22411499e+01]\n",
      "   [3.81892700e+01 8.73988953e+01 2.42256165e+01]\n",
      "   ...\n",
      "   [1.60527893e+02 1.02018768e+02 6.13482056e+01]\n",
      "   [1.85113464e+02 1.46493927e+02 1.06163452e+02]\n",
      "   [1.04341278e+02 8.96454468e+01 4.79774780e+01]]\n",
      "\n",
      "  ...\n",
      "\n",
      "  [[1.00631958e+02 9.46251831e+01 6.37882080e+01]\n",
      "   [1.11985291e+02 1.00484528e+02 7.15563965e+01]\n",
      "   [1.35463013e+02 1.17796356e+02 8.86296692e+01]\n",
      "   ...\n",
      "   [1.33913239e+02 1.48143707e+02 6.64744263e+01]\n",
      "   [1.62702179e+02 1.63813110e+02 1.03731873e+02]\n",
      "   [1.40763794e+02 1.29127594e+02 1.02682281e+02]]\n",
      "\n",
      "  [[8.44070740e+01 7.86336365e+01 4.61101990e+01]\n",
      "   [1.14289642e+02 1.05020264e+02 7.81732178e+01]\n",
      "   [1.55119537e+02 1.41261719e+02 1.18565613e+02]\n",
      "   ...\n",
      "   [5.40120239e+01 7.64471436e+01 7.51080322e+00]\n",
      "   [1.63827942e+02 1.68890289e+02 1.04664185e+02]\n",
      "   [1.52690857e+02 1.44370544e+02 1.14690857e+02]]\n",
      "\n",
      "  [[7.49492188e+01 7.10538025e+01 4.00946350e+01]\n",
      "   [7.33867188e+01 6.75937500e+01 4.81510925e+01]\n",
      "   [6.35937500e+01 5.59341125e+01 4.73906250e+01]\n",
      "   ...\n",
      "   [1.19735352e+02 1.46247070e+02 4.47457886e+01]\n",
      "   [1.23594421e+02 1.29413483e+02 6.72234802e+01]\n",
      "   [6.67304688e+01 6.18524475e+01 2.87130737e+01]]]\n",
      "\n",
      "\n",
      " [[[1.18586731e+00 3.01607971e+01 2.04381409e+01]\n",
      "   [2.87509918e+01 8.08095856e+01 6.45322418e+01]\n",
      "   [0.00000000e+00 2.63160553e+01 1.83160553e+01]\n",
      "   ...\n",
      "   [0.00000000e+00 6.00000000e+00 2.00000000e+00]\n",
      "   [2.17758179e-01 5.22755432e+00 2.05958557e+00]\n",
      "   [1.12336731e+00 3.12336731e+00 2.12336731e+00]]\n",
      "\n",
      "  [[8.51562500e-01 3.10175476e+01 2.12948914e+01]\n",
      "   [2.81835938e+01 8.05997009e+01 6.43223572e+01]\n",
      "   [0.00000000e+00 2.80398102e+01 2.00398102e+01]\n",
      "   ...\n",
      "   [0.00000000e+00 6.64453125e+00 7.10937500e-01]\n",
      "   [1.78756714e-01 5.62406921e+00 2.45610046e+00]\n",
      "   [9.29687500e-01 4.21875000e+00 3.21875000e+00]]\n",
      "\n",
      "  [[4.25781250e-01 3.21388702e+01 2.24478149e+01]\n",
      "   [2.67382812e+01 7.98937836e+01 6.36164398e+01]\n",
      "   [1.00039673e+00 3.03367310e+01 2.23462982e+01]\n",
      "   ...\n",
      "   [0.00000000e+00 7.00000000e+00 0.00000000e+00]\n",
      "   [5.95855713e-01 7.04116821e+00 8.73199463e-01]\n",
      "   [2.07421875e+00 6.14843750e+00 4.92578125e+00]]\n",
      "\n",
      "  ...\n",
      "\n",
      "  [[7.45166779e+01 8.05166779e+01 6.65166779e+01]\n",
      "   [9.61948700e+01 1.03194870e+02 8.71948700e+01]\n",
      "   [9.44082794e+01 1.01408279e+02 8.54082794e+01]\n",
      "   ...\n",
      "   [9.73347473e+01 9.12318268e+01 6.53316345e+01]\n",
      "   [9.13186493e+01 8.49053345e+01 6.35022430e+01]\n",
      "   [7.91022644e+01 7.19332428e+01 5.38053894e+01]]\n",
      "\n",
      "  [[6.44507141e+01 7.04507141e+01 5.64507141e+01]\n",
      "   [9.39812164e+01 1.00981216e+02 8.49812164e+01]\n",
      "   [7.55119934e+01 7.95119934e+01 6.45119934e+01]\n",
      "   ...\n",
      "   [7.62901154e+01 7.27119904e+01 5.14229279e+01]\n",
      "   [7.04257965e+01 6.65703278e+01 4.84892273e+01]\n",
      "   [5.49804688e+01 5.04023438e+01 3.71132812e+01]]\n",
      "\n",
      "  [[4.86188202e+01 5.30485077e+01 3.90485077e+01]\n",
      "   [1.04650360e+02 1.09294891e+02 9.40800476e+01]\n",
      "   [8.58999329e+01 8.98999329e+01 7.48999329e+01]\n",
      "   ...\n",
      "   [4.52343750e+01 4.58046875e+01 2.75774231e+01]\n",
      "   [2.81337433e+01 2.84267120e+01 1.43007812e+01]\n",
      "   [2.38375702e+01 2.34078827e+01 1.29781952e+01]]]\n",
      "\n",
      "\n",
      " [[[9.64939270e+01 1.03493927e+02 1.19493927e+02]\n",
      "   [1.08772736e+02 1.16772736e+02 1.29772736e+02]\n",
      "   [1.36936066e+02 1.42936066e+02 1.54936066e+02]\n",
      "   ...\n",
      "   [1.17431122e+02 1.06431122e+02 1.14431122e+02]\n",
      "   [1.23242584e+02 1.12242584e+02 1.20242584e+02]\n",
      "   [1.31898804e+02 1.20898804e+02 1.28898804e+02]]\n",
      "\n",
      "  [[1.02560608e+02 1.10252014e+02 1.24177795e+02]\n",
      "   [1.33255096e+02 1.41255096e+02 1.54255096e+02]\n",
      "   [1.58428101e+02 1.64428101e+02 1.76428101e+02]\n",
      "   ...\n",
      "   [1.09518341e+02 9.85183411e+01 1.06518341e+02]\n",
      "   [1.13530365e+02 1.02530365e+02 1.10530365e+02]\n",
      "   [1.20750305e+02 1.09750305e+02 1.17750305e+02]]\n",
      "\n",
      "  [[1.45240509e+02 1.52935822e+02 1.65783478e+02]\n",
      "   [1.61053955e+02 1.68749268e+02 1.80471130e+02]\n",
      "   [1.67155548e+02 1.73928986e+02 1.84382111e+02]\n",
      "   ...\n",
      "   [1.12992188e+02 1.01992188e+02 1.09992188e+02]\n",
      "   [1.10628113e+02 9.96281128e+01 1.07628113e+02]\n",
      "   [1.07943878e+02 9.69438782e+01 1.04943878e+02]]\n",
      "\n",
      "  ...\n",
      "\n",
      "  [[9.58020630e+01 8.68020630e+01 9.18020630e+01]\n",
      "   [1.20058655e+02 1.11058655e+02 1.16058655e+02]\n",
      "   [9.15795288e+01 8.25795288e+01 8.75795288e+01]\n",
      "   ...\n",
      "   [9.45653076e+01 8.35653076e+01 8.95653076e+01]\n",
      "   [8.92452393e+01 7.82452393e+01 8.42452393e+01]\n",
      "   [8.76080933e+01 7.66080933e+01 8.26080933e+01]]\n",
      "\n",
      "  [[1.02268219e+02 9.62682190e+01 1.00268219e+02]\n",
      "   [8.81289062e+01 8.21289062e+01 8.61289062e+01]\n",
      "   [1.00314026e+02 9.43140259e+01 9.83140259e+01]\n",
      "   ...\n",
      "   [6.55973816e+01 5.45973816e+01 6.05973816e+01]\n",
      "   [1.09399658e+02 9.83996582e+01 1.04399658e+02]\n",
      "   [8.94296875e+01 7.84296875e+01 8.44296875e+01]]\n",
      "\n",
      "  [[8.82376099e+01 8.30071411e+01 8.70071411e+01]\n",
      "   [1.01535858e+02 9.63053894e+01 1.00305389e+02]\n",
      "   [9.26686096e+01 8.74381409e+01 9.14381409e+01]\n",
      "   ...\n",
      "   [8.88273926e+01 7.78273926e+01 8.38273926e+01]\n",
      "   [9.62271729e+01 8.52271729e+01 9.12271729e+01]\n",
      "   [1.03677917e+02 9.26779175e+01 9.86779175e+01]]]], shape=(32, 128, 128, 3), dtype=float32) (32, 128, 128, 3)\n",
      "tf.Tensor(\n",
      "[[0. 0. 0. 0. 0. 0. 0. 1.]\n",
      " [0. 0. 0. 0. 0. 0. 1. 0.]\n",
      " [0. 0. 0. 0. 1. 0. 0. 0.]\n",
      " [0. 0. 1. 0. 0. 0. 0. 0.]\n",
      " [0. 0. 0. 1. 0. 0. 0. 0.]\n",
      " [0. 0. 1. 0. 0. 0. 0. 0.]\n",
      " [0. 0. 0. 0. 0. 0. 1. 0.]\n",
      " [0. 0. 0. 1. 0. 0. 0. 0.]\n",
      " [0. 0. 0. 0. 0. 0. 1. 0.]\n",
      " [0. 0. 0. 0. 1. 0. 0. 0.]\n",
      " [0. 0. 0. 0. 1. 0. 0. 0.]\n",
      " [1. 0. 0. 0. 0. 0. 0. 0.]\n",
      " [0. 1. 0. 0. 0. 0. 0. 0.]\n",
      " [0. 0. 0. 0. 1. 0. 0. 0.]\n",
      " [0. 0. 0. 0. 0. 0. 1. 0.]\n",
      " [0. 0. 0. 0. 0. 1. 0. 0.]\n",
      " [0. 0. 1. 0. 0. 0. 0. 0.]\n",
      " [0. 0. 0. 1. 0. 0. 0. 0.]\n",
      " [0. 0. 1. 0. 0. 0. 0. 0.]\n",
      " [0. 1. 0. 0. 0. 0. 0. 0.]\n",
      " [0. 0. 0. 1. 0. 0. 0. 0.]\n",
      " [0. 0. 0. 1. 0. 0. 0. 0.]\n",
      " [0. 0. 0. 0. 0. 0. 1. 0.]\n",
      " [0. 1. 0. 0. 0. 0. 0. 0.]\n",
      " [0. 0. 1. 0. 0. 0. 0. 0.]\n",
      " [0. 0. 1. 0. 0. 0. 0. 0.]\n",
      " [0. 1. 0. 0. 0. 0. 0. 0.]\n",
      " [0. 0. 0. 0. 0. 0. 1. 0.]\n",
      " [0. 0. 0. 0. 0. 1. 0. 0.]\n",
      " [0. 0. 0. 0. 0. 0. 0. 1.]\n",
      " [0. 0. 0. 1. 0. 0. 0. 0.]\n",
      " [0. 0. 0. 0. 0. 1. 0. 0.]], shape=(32, 8), dtype=float32) (32, 8)\n"
     ]
    }
   ],
   "source": [
    "for x,y in training_set:\n",
    "    print(x,x.shape)\n",
    "    print(y,y.shape)\n",
    "    break"
   ]
  },
  {
   "cell_type": "code",
   "execution_count": 41,
   "id": "11905e93-9964-4d4f-9440-8a7433d034cd",
   "metadata": {},
   "outputs": [],
   "source": [
    "from tensorflow.keras.layers import Conv2D,Dense,MaxPool2D,Flatten,Dropout\n",
    "from tensorflow.keras.models import Sequential"
   ]
  },
  {
   "cell_type": "code",
   "execution_count": 51,
   "id": "266740f3-282d-431f-beea-be58ce219b25",
   "metadata": {},
   "outputs": [],
   "source": [
    "model=Sequential()"
   ]
  },
  {
   "cell_type": "code",
   "execution_count": 52,
   "id": "1b09a0a9-f040-4255-8c42-ecfe39e4fe5e",
   "metadata": {},
   "outputs": [],
   "source": [
    "model.add(Conv2D(filters=32,kernel_size=3,padding='same',activation='relu',input_shape=[128,128,3]))\n",
    "model.add(Conv2D(filters=32,kernel_size=3,activation='relu'))\n",
    "model.add(MaxPool2D(pool_size=2,strides=2))"
   ]
  },
  {
   "cell_type": "code",
   "execution_count": 53,
   "id": "0ec8241f-1f12-40b5-8c78-bb060b2f81d6",
   "metadata": {},
   "outputs": [],
   "source": [
    "model.add(Conv2D(filters=64,kernel_size=3,padding='same',activation='relu'))\n",
    "model.add(Conv2D(filters=64,kernel_size=3,activation='relu'))\n",
    "model.add(MaxPool2D(pool_size=2,strides=2))"
   ]
  },
  {
   "cell_type": "code",
   "execution_count": 54,
   "id": "6fc8f2cf-8b3d-4f76-a006-57619d621d8a",
   "metadata": {},
   "outputs": [],
   "source": [
    "model.add(Conv2D(filters=128,kernel_size=3,padding='same',activation='relu'))\n",
    "model.add(Conv2D(filters=128,kernel_size=3,activation='relu'))\n",
    "model.add(MaxPool2D(pool_size=2,strides=2))"
   ]
  },
  {
   "cell_type": "code",
   "execution_count": 55,
   "id": "6386e7b2-b851-4d5e-8452-7f4cdb81b95d",
   "metadata": {},
   "outputs": [],
   "source": [
    "model.add(Conv2D(filters=256,kernel_size=3,padding='same',activation='relu'))\n",
    "model.add(Conv2D(filters=256,kernel_size=3,activation='relu'))\n",
    "model.add(MaxPool2D(pool_size=2,strides=2))"
   ]
  },
  {
   "cell_type": "code",
   "execution_count": 56,
   "id": "2a0d652c-0a1c-4426-8b2d-570b875d3a11",
   "metadata": {},
   "outputs": [],
   "source": [
    "model.add(Conv2D(filters=512,kernel_size=3,padding='same',activation='relu'))\n",
    "model.add(Conv2D(filters=512,kernel_size=3,activation='relu'))\n",
    "model.add(MaxPool2D(pool_size=2,strides=2))"
   ]
  },
  {
   "cell_type": "code",
   "execution_count": 57,
   "id": "81982f54-363a-4145-a62a-23f56bac929a",
   "metadata": {},
   "outputs": [],
   "source": [
    "model.add(Dropout(0.25))"
   ]
  },
  {
   "cell_type": "code",
   "execution_count": 58,
   "id": "74ff8a29-d29b-4ef4-a8c9-ad0f01f4b0e7",
   "metadata": {},
   "outputs": [],
   "source": [
    "model.add(Flatten())"
   ]
  },
  {
   "cell_type": "code",
   "execution_count": 60,
   "id": "152f0c92-6b04-49a2-8b77-b3f76161eefa",
   "metadata": {},
   "outputs": [],
   "source": [
    "model.add(Dense(units=1500,activation='relu'))"
   ]
  },
  {
   "cell_type": "code",
   "execution_count": 61,
   "id": "2e0c4472-64a3-498f-b3b1-64f02a65142d",
   "metadata": {},
   "outputs": [],
   "source": [
    "model.add(Dropout(0.4))"
   ]
  },
  {
   "cell_type": "code",
   "execution_count": 62,
   "id": "5d7f002f-49d9-44ea-b158-2b83105788da",
   "metadata": {},
   "outputs": [],
   "source": [
    "model.add(Dense(units=8,activation='softmax'))"
   ]
  },
  {
   "cell_type": "code",
   "execution_count": 63,
   "id": "68930569-dbf6-46c7-908f-0fd4d1d237f7",
   "metadata": {},
   "outputs": [],
   "source": [
    "model.compile(optimizer=tf.keras.optimizers.Adam(learning_rate=0.0001),loss='categorical_crossentropy',metrics=['accuracy'])"
   ]
  },
  {
   "cell_type": "code",
   "execution_count": 64,
   "id": "920b06ef-69ff-493d-ba19-2982e5092d23",
   "metadata": {},
   "outputs": [
    {
     "data": {
      "text/html": [
       "<pre style=\"white-space:pre;overflow-x:auto;line-height:normal;font-family:Menlo,'DejaVu Sans Mono',consolas,'Courier New',monospace\"><span style=\"font-weight: bold\">Model: \"sequential_2\"</span>\n",
       "</pre>\n"
      ],
      "text/plain": [
       "\u001b[1mModel: \"sequential_2\"\u001b[0m\n"
      ]
     },
     "metadata": {},
     "output_type": "display_data"
    },
    {
     "data": {
      "text/html": [
       "<pre style=\"white-space:pre;overflow-x:auto;line-height:normal;font-family:Menlo,'DejaVu Sans Mono',consolas,'Courier New',monospace\">┏━━━━━━━━━━━━━━━━━━━━━━━━━━━━━━━━━━━━━━┳━━━━━━━━━━━━━━━━━━━━━━━━━━━━━┳━━━━━━━━━━━━━━━━━┓\n",
       "┃<span style=\"font-weight: bold\"> Layer (type)                         </span>┃<span style=\"font-weight: bold\"> Output Shape                </span>┃<span style=\"font-weight: bold\">         Param # </span>┃\n",
       "┡━━━━━━━━━━━━━━━━━━━━━━━━━━━━━━━━━━━━━━╇━━━━━━━━━━━━━━━━━━━━━━━━━━━━━╇━━━━━━━━━━━━━━━━━┩\n",
       "│ conv2d_31 (<span style=\"color: #0087ff; text-decoration-color: #0087ff\">Conv2D</span>)                   │ (<span style=\"color: #00d7ff; text-decoration-color: #00d7ff\">None</span>, <span style=\"color: #00af00; text-decoration-color: #00af00\">128</span>, <span style=\"color: #00af00; text-decoration-color: #00af00\">128</span>, <span style=\"color: #00af00; text-decoration-color: #00af00\">32</span>)        │             <span style=\"color: #00af00; text-decoration-color: #00af00\">896</span> │\n",
       "├──────────────────────────────────────┼─────────────────────────────┼─────────────────┤\n",
       "│ conv2d_32 (<span style=\"color: #0087ff; text-decoration-color: #0087ff\">Conv2D</span>)                   │ (<span style=\"color: #00d7ff; text-decoration-color: #00d7ff\">None</span>, <span style=\"color: #00af00; text-decoration-color: #00af00\">126</span>, <span style=\"color: #00af00; text-decoration-color: #00af00\">126</span>, <span style=\"color: #00af00; text-decoration-color: #00af00\">32</span>)        │           <span style=\"color: #00af00; text-decoration-color: #00af00\">9,248</span> │\n",
       "├──────────────────────────────────────┼─────────────────────────────┼─────────────────┤\n",
       "│ max_pooling2d_12 (<span style=\"color: #0087ff; text-decoration-color: #0087ff\">MaxPooling2D</span>)      │ (<span style=\"color: #00d7ff; text-decoration-color: #00d7ff\">None</span>, <span style=\"color: #00af00; text-decoration-color: #00af00\">63</span>, <span style=\"color: #00af00; text-decoration-color: #00af00\">63</span>, <span style=\"color: #00af00; text-decoration-color: #00af00\">32</span>)          │               <span style=\"color: #00af00; text-decoration-color: #00af00\">0</span> │\n",
       "├──────────────────────────────────────┼─────────────────────────────┼─────────────────┤\n",
       "│ conv2d_33 (<span style=\"color: #0087ff; text-decoration-color: #0087ff\">Conv2D</span>)                   │ (<span style=\"color: #00d7ff; text-decoration-color: #00d7ff\">None</span>, <span style=\"color: #00af00; text-decoration-color: #00af00\">63</span>, <span style=\"color: #00af00; text-decoration-color: #00af00\">63</span>, <span style=\"color: #00af00; text-decoration-color: #00af00\">64</span>)          │          <span style=\"color: #00af00; text-decoration-color: #00af00\">18,496</span> │\n",
       "├──────────────────────────────────────┼─────────────────────────────┼─────────────────┤\n",
       "│ conv2d_34 (<span style=\"color: #0087ff; text-decoration-color: #0087ff\">Conv2D</span>)                   │ (<span style=\"color: #00d7ff; text-decoration-color: #00d7ff\">None</span>, <span style=\"color: #00af00; text-decoration-color: #00af00\">61</span>, <span style=\"color: #00af00; text-decoration-color: #00af00\">61</span>, <span style=\"color: #00af00; text-decoration-color: #00af00\">64</span>)          │          <span style=\"color: #00af00; text-decoration-color: #00af00\">36,928</span> │\n",
       "├──────────────────────────────────────┼─────────────────────────────┼─────────────────┤\n",
       "│ max_pooling2d_13 (<span style=\"color: #0087ff; text-decoration-color: #0087ff\">MaxPooling2D</span>)      │ (<span style=\"color: #00d7ff; text-decoration-color: #00d7ff\">None</span>, <span style=\"color: #00af00; text-decoration-color: #00af00\">30</span>, <span style=\"color: #00af00; text-decoration-color: #00af00\">30</span>, <span style=\"color: #00af00; text-decoration-color: #00af00\">64</span>)          │               <span style=\"color: #00af00; text-decoration-color: #00af00\">0</span> │\n",
       "├──────────────────────────────────────┼─────────────────────────────┼─────────────────┤\n",
       "│ conv2d_35 (<span style=\"color: #0087ff; text-decoration-color: #0087ff\">Conv2D</span>)                   │ (<span style=\"color: #00d7ff; text-decoration-color: #00d7ff\">None</span>, <span style=\"color: #00af00; text-decoration-color: #00af00\">30</span>, <span style=\"color: #00af00; text-decoration-color: #00af00\">30</span>, <span style=\"color: #00af00; text-decoration-color: #00af00\">128</span>)         │          <span style=\"color: #00af00; text-decoration-color: #00af00\">73,856</span> │\n",
       "├──────────────────────────────────────┼─────────────────────────────┼─────────────────┤\n",
       "│ conv2d_36 (<span style=\"color: #0087ff; text-decoration-color: #0087ff\">Conv2D</span>)                   │ (<span style=\"color: #00d7ff; text-decoration-color: #00d7ff\">None</span>, <span style=\"color: #00af00; text-decoration-color: #00af00\">28</span>, <span style=\"color: #00af00; text-decoration-color: #00af00\">28</span>, <span style=\"color: #00af00; text-decoration-color: #00af00\">128</span>)         │         <span style=\"color: #00af00; text-decoration-color: #00af00\">147,584</span> │\n",
       "├──────────────────────────────────────┼─────────────────────────────┼─────────────────┤\n",
       "│ max_pooling2d_14 (<span style=\"color: #0087ff; text-decoration-color: #0087ff\">MaxPooling2D</span>)      │ (<span style=\"color: #00d7ff; text-decoration-color: #00d7ff\">None</span>, <span style=\"color: #00af00; text-decoration-color: #00af00\">14</span>, <span style=\"color: #00af00; text-decoration-color: #00af00\">14</span>, <span style=\"color: #00af00; text-decoration-color: #00af00\">128</span>)         │               <span style=\"color: #00af00; text-decoration-color: #00af00\">0</span> │\n",
       "├──────────────────────────────────────┼─────────────────────────────┼─────────────────┤\n",
       "│ conv2d_37 (<span style=\"color: #0087ff; text-decoration-color: #0087ff\">Conv2D</span>)                   │ (<span style=\"color: #00d7ff; text-decoration-color: #00d7ff\">None</span>, <span style=\"color: #00af00; text-decoration-color: #00af00\">14</span>, <span style=\"color: #00af00; text-decoration-color: #00af00\">14</span>, <span style=\"color: #00af00; text-decoration-color: #00af00\">256</span>)         │         <span style=\"color: #00af00; text-decoration-color: #00af00\">295,168</span> │\n",
       "├──────────────────────────────────────┼─────────────────────────────┼─────────────────┤\n",
       "│ conv2d_38 (<span style=\"color: #0087ff; text-decoration-color: #0087ff\">Conv2D</span>)                   │ (<span style=\"color: #00d7ff; text-decoration-color: #00d7ff\">None</span>, <span style=\"color: #00af00; text-decoration-color: #00af00\">12</span>, <span style=\"color: #00af00; text-decoration-color: #00af00\">12</span>, <span style=\"color: #00af00; text-decoration-color: #00af00\">256</span>)         │         <span style=\"color: #00af00; text-decoration-color: #00af00\">590,080</span> │\n",
       "├──────────────────────────────────────┼─────────────────────────────┼─────────────────┤\n",
       "│ max_pooling2d_15 (<span style=\"color: #0087ff; text-decoration-color: #0087ff\">MaxPooling2D</span>)      │ (<span style=\"color: #00d7ff; text-decoration-color: #00d7ff\">None</span>, <span style=\"color: #00af00; text-decoration-color: #00af00\">6</span>, <span style=\"color: #00af00; text-decoration-color: #00af00\">6</span>, <span style=\"color: #00af00; text-decoration-color: #00af00\">256</span>)           │               <span style=\"color: #00af00; text-decoration-color: #00af00\">0</span> │\n",
       "├──────────────────────────────────────┼─────────────────────────────┼─────────────────┤\n",
       "│ conv2d_39 (<span style=\"color: #0087ff; text-decoration-color: #0087ff\">Conv2D</span>)                   │ (<span style=\"color: #00d7ff; text-decoration-color: #00d7ff\">None</span>, <span style=\"color: #00af00; text-decoration-color: #00af00\">6</span>, <span style=\"color: #00af00; text-decoration-color: #00af00\">6</span>, <span style=\"color: #00af00; text-decoration-color: #00af00\">512</span>)           │       <span style=\"color: #00af00; text-decoration-color: #00af00\">1,180,160</span> │\n",
       "├──────────────────────────────────────┼─────────────────────────────┼─────────────────┤\n",
       "│ conv2d_40 (<span style=\"color: #0087ff; text-decoration-color: #0087ff\">Conv2D</span>)                   │ (<span style=\"color: #00d7ff; text-decoration-color: #00d7ff\">None</span>, <span style=\"color: #00af00; text-decoration-color: #00af00\">4</span>, <span style=\"color: #00af00; text-decoration-color: #00af00\">4</span>, <span style=\"color: #00af00; text-decoration-color: #00af00\">512</span>)           │       <span style=\"color: #00af00; text-decoration-color: #00af00\">2,359,808</span> │\n",
       "├──────────────────────────────────────┼─────────────────────────────┼─────────────────┤\n",
       "│ max_pooling2d_16 (<span style=\"color: #0087ff; text-decoration-color: #0087ff\">MaxPooling2D</span>)      │ (<span style=\"color: #00d7ff; text-decoration-color: #00d7ff\">None</span>, <span style=\"color: #00af00; text-decoration-color: #00af00\">2</span>, <span style=\"color: #00af00; text-decoration-color: #00af00\">2</span>, <span style=\"color: #00af00; text-decoration-color: #00af00\">512</span>)           │               <span style=\"color: #00af00; text-decoration-color: #00af00\">0</span> │\n",
       "├──────────────────────────────────────┼─────────────────────────────┼─────────────────┤\n",
       "│ dropout_1 (<span style=\"color: #0087ff; text-decoration-color: #0087ff\">Dropout</span>)                  │ (<span style=\"color: #00d7ff; text-decoration-color: #00d7ff\">None</span>, <span style=\"color: #00af00; text-decoration-color: #00af00\">2</span>, <span style=\"color: #00af00; text-decoration-color: #00af00\">2</span>, <span style=\"color: #00af00; text-decoration-color: #00af00\">512</span>)           │               <span style=\"color: #00af00; text-decoration-color: #00af00\">0</span> │\n",
       "├──────────────────────────────────────┼─────────────────────────────┼─────────────────┤\n",
       "│ flatten_1 (<span style=\"color: #0087ff; text-decoration-color: #0087ff\">Flatten</span>)                  │ (<span style=\"color: #00d7ff; text-decoration-color: #00d7ff\">None</span>, <span style=\"color: #00af00; text-decoration-color: #00af00\">2048</span>)                │               <span style=\"color: #00af00; text-decoration-color: #00af00\">0</span> │\n",
       "├──────────────────────────────────────┼─────────────────────────────┼─────────────────┤\n",
       "│ dense_2 (<span style=\"color: #0087ff; text-decoration-color: #0087ff\">Dense</span>)                      │ (<span style=\"color: #00d7ff; text-decoration-color: #00d7ff\">None</span>, <span style=\"color: #00af00; text-decoration-color: #00af00\">1500</span>)                │       <span style=\"color: #00af00; text-decoration-color: #00af00\">3,073,500</span> │\n",
       "├──────────────────────────────────────┼─────────────────────────────┼─────────────────┤\n",
       "│ dropout_2 (<span style=\"color: #0087ff; text-decoration-color: #0087ff\">Dropout</span>)                  │ (<span style=\"color: #00d7ff; text-decoration-color: #00d7ff\">None</span>, <span style=\"color: #00af00; text-decoration-color: #00af00\">1500</span>)                │               <span style=\"color: #00af00; text-decoration-color: #00af00\">0</span> │\n",
       "├──────────────────────────────────────┼─────────────────────────────┼─────────────────┤\n",
       "│ dense_3 (<span style=\"color: #0087ff; text-decoration-color: #0087ff\">Dense</span>)                      │ (<span style=\"color: #00d7ff; text-decoration-color: #00d7ff\">None</span>, <span style=\"color: #00af00; text-decoration-color: #00af00\">8</span>)                   │          <span style=\"color: #00af00; text-decoration-color: #00af00\">12,008</span> │\n",
       "└──────────────────────────────────────┴─────────────────────────────┴─────────────────┘\n",
       "</pre>\n"
      ],
      "text/plain": [
       "┏━━━━━━━━━━━━━━━━━━━━━━━━━━━━━━━━━━━━━━┳━━━━━━━━━━━━━━━━━━━━━━━━━━━━━┳━━━━━━━━━━━━━━━━━┓\n",
       "┃\u001b[1m \u001b[0m\u001b[1mLayer (type)                        \u001b[0m\u001b[1m \u001b[0m┃\u001b[1m \u001b[0m\u001b[1mOutput Shape               \u001b[0m\u001b[1m \u001b[0m┃\u001b[1m \u001b[0m\u001b[1m        Param #\u001b[0m\u001b[1m \u001b[0m┃\n",
       "┡━━━━━━━━━━━━━━━━━━━━━━━━━━━━━━━━━━━━━━╇━━━━━━━━━━━━━━━━━━━━━━━━━━━━━╇━━━━━━━━━━━━━━━━━┩\n",
       "│ conv2d_31 (\u001b[38;5;33mConv2D\u001b[0m)                   │ (\u001b[38;5;45mNone\u001b[0m, \u001b[38;5;34m128\u001b[0m, \u001b[38;5;34m128\u001b[0m, \u001b[38;5;34m32\u001b[0m)        │             \u001b[38;5;34m896\u001b[0m │\n",
       "├──────────────────────────────────────┼─────────────────────────────┼─────────────────┤\n",
       "│ conv2d_32 (\u001b[38;5;33mConv2D\u001b[0m)                   │ (\u001b[38;5;45mNone\u001b[0m, \u001b[38;5;34m126\u001b[0m, \u001b[38;5;34m126\u001b[0m, \u001b[38;5;34m32\u001b[0m)        │           \u001b[38;5;34m9,248\u001b[0m │\n",
       "├──────────────────────────────────────┼─────────────────────────────┼─────────────────┤\n",
       "│ max_pooling2d_12 (\u001b[38;5;33mMaxPooling2D\u001b[0m)      │ (\u001b[38;5;45mNone\u001b[0m, \u001b[38;5;34m63\u001b[0m, \u001b[38;5;34m63\u001b[0m, \u001b[38;5;34m32\u001b[0m)          │               \u001b[38;5;34m0\u001b[0m │\n",
       "├──────────────────────────────────────┼─────────────────────────────┼─────────────────┤\n",
       "│ conv2d_33 (\u001b[38;5;33mConv2D\u001b[0m)                   │ (\u001b[38;5;45mNone\u001b[0m, \u001b[38;5;34m63\u001b[0m, \u001b[38;5;34m63\u001b[0m, \u001b[38;5;34m64\u001b[0m)          │          \u001b[38;5;34m18,496\u001b[0m │\n",
       "├──────────────────────────────────────┼─────────────────────────────┼─────────────────┤\n",
       "│ conv2d_34 (\u001b[38;5;33mConv2D\u001b[0m)                   │ (\u001b[38;5;45mNone\u001b[0m, \u001b[38;5;34m61\u001b[0m, \u001b[38;5;34m61\u001b[0m, \u001b[38;5;34m64\u001b[0m)          │          \u001b[38;5;34m36,928\u001b[0m │\n",
       "├──────────────────────────────────────┼─────────────────────────────┼─────────────────┤\n",
       "│ max_pooling2d_13 (\u001b[38;5;33mMaxPooling2D\u001b[0m)      │ (\u001b[38;5;45mNone\u001b[0m, \u001b[38;5;34m30\u001b[0m, \u001b[38;5;34m30\u001b[0m, \u001b[38;5;34m64\u001b[0m)          │               \u001b[38;5;34m0\u001b[0m │\n",
       "├──────────────────────────────────────┼─────────────────────────────┼─────────────────┤\n",
       "│ conv2d_35 (\u001b[38;5;33mConv2D\u001b[0m)                   │ (\u001b[38;5;45mNone\u001b[0m, \u001b[38;5;34m30\u001b[0m, \u001b[38;5;34m30\u001b[0m, \u001b[38;5;34m128\u001b[0m)         │          \u001b[38;5;34m73,856\u001b[0m │\n",
       "├──────────────────────────────────────┼─────────────────────────────┼─────────────────┤\n",
       "│ conv2d_36 (\u001b[38;5;33mConv2D\u001b[0m)                   │ (\u001b[38;5;45mNone\u001b[0m, \u001b[38;5;34m28\u001b[0m, \u001b[38;5;34m28\u001b[0m, \u001b[38;5;34m128\u001b[0m)         │         \u001b[38;5;34m147,584\u001b[0m │\n",
       "├──────────────────────────────────────┼─────────────────────────────┼─────────────────┤\n",
       "│ max_pooling2d_14 (\u001b[38;5;33mMaxPooling2D\u001b[0m)      │ (\u001b[38;5;45mNone\u001b[0m, \u001b[38;5;34m14\u001b[0m, \u001b[38;5;34m14\u001b[0m, \u001b[38;5;34m128\u001b[0m)         │               \u001b[38;5;34m0\u001b[0m │\n",
       "├──────────────────────────────────────┼─────────────────────────────┼─────────────────┤\n",
       "│ conv2d_37 (\u001b[38;5;33mConv2D\u001b[0m)                   │ (\u001b[38;5;45mNone\u001b[0m, \u001b[38;5;34m14\u001b[0m, \u001b[38;5;34m14\u001b[0m, \u001b[38;5;34m256\u001b[0m)         │         \u001b[38;5;34m295,168\u001b[0m │\n",
       "├──────────────────────────────────────┼─────────────────────────────┼─────────────────┤\n",
       "│ conv2d_38 (\u001b[38;5;33mConv2D\u001b[0m)                   │ (\u001b[38;5;45mNone\u001b[0m, \u001b[38;5;34m12\u001b[0m, \u001b[38;5;34m12\u001b[0m, \u001b[38;5;34m256\u001b[0m)         │         \u001b[38;5;34m590,080\u001b[0m │\n",
       "├──────────────────────────────────────┼─────────────────────────────┼─────────────────┤\n",
       "│ max_pooling2d_15 (\u001b[38;5;33mMaxPooling2D\u001b[0m)      │ (\u001b[38;5;45mNone\u001b[0m, \u001b[38;5;34m6\u001b[0m, \u001b[38;5;34m6\u001b[0m, \u001b[38;5;34m256\u001b[0m)           │               \u001b[38;5;34m0\u001b[0m │\n",
       "├──────────────────────────────────────┼─────────────────────────────┼─────────────────┤\n",
       "│ conv2d_39 (\u001b[38;5;33mConv2D\u001b[0m)                   │ (\u001b[38;5;45mNone\u001b[0m, \u001b[38;5;34m6\u001b[0m, \u001b[38;5;34m6\u001b[0m, \u001b[38;5;34m512\u001b[0m)           │       \u001b[38;5;34m1,180,160\u001b[0m │\n",
       "├──────────────────────────────────────┼─────────────────────────────┼─────────────────┤\n",
       "│ conv2d_40 (\u001b[38;5;33mConv2D\u001b[0m)                   │ (\u001b[38;5;45mNone\u001b[0m, \u001b[38;5;34m4\u001b[0m, \u001b[38;5;34m4\u001b[0m, \u001b[38;5;34m512\u001b[0m)           │       \u001b[38;5;34m2,359,808\u001b[0m │\n",
       "├──────────────────────────────────────┼─────────────────────────────┼─────────────────┤\n",
       "│ max_pooling2d_16 (\u001b[38;5;33mMaxPooling2D\u001b[0m)      │ (\u001b[38;5;45mNone\u001b[0m, \u001b[38;5;34m2\u001b[0m, \u001b[38;5;34m2\u001b[0m, \u001b[38;5;34m512\u001b[0m)           │               \u001b[38;5;34m0\u001b[0m │\n",
       "├──────────────────────────────────────┼─────────────────────────────┼─────────────────┤\n",
       "│ dropout_1 (\u001b[38;5;33mDropout\u001b[0m)                  │ (\u001b[38;5;45mNone\u001b[0m, \u001b[38;5;34m2\u001b[0m, \u001b[38;5;34m2\u001b[0m, \u001b[38;5;34m512\u001b[0m)           │               \u001b[38;5;34m0\u001b[0m │\n",
       "├──────────────────────────────────────┼─────────────────────────────┼─────────────────┤\n",
       "│ flatten_1 (\u001b[38;5;33mFlatten\u001b[0m)                  │ (\u001b[38;5;45mNone\u001b[0m, \u001b[38;5;34m2048\u001b[0m)                │               \u001b[38;5;34m0\u001b[0m │\n",
       "├──────────────────────────────────────┼─────────────────────────────┼─────────────────┤\n",
       "│ dense_2 (\u001b[38;5;33mDense\u001b[0m)                      │ (\u001b[38;5;45mNone\u001b[0m, \u001b[38;5;34m1500\u001b[0m)                │       \u001b[38;5;34m3,073,500\u001b[0m │\n",
       "├──────────────────────────────────────┼─────────────────────────────┼─────────────────┤\n",
       "│ dropout_2 (\u001b[38;5;33mDropout\u001b[0m)                  │ (\u001b[38;5;45mNone\u001b[0m, \u001b[38;5;34m1500\u001b[0m)                │               \u001b[38;5;34m0\u001b[0m │\n",
       "├──────────────────────────────────────┼─────────────────────────────┼─────────────────┤\n",
       "│ dense_3 (\u001b[38;5;33mDense\u001b[0m)                      │ (\u001b[38;5;45mNone\u001b[0m, \u001b[38;5;34m8\u001b[0m)                   │          \u001b[38;5;34m12,008\u001b[0m │\n",
       "└──────────────────────────────────────┴─────────────────────────────┴─────────────────┘\n"
      ]
     },
     "metadata": {},
     "output_type": "display_data"
    },
    {
     "data": {
      "text/html": [
       "<pre style=\"white-space:pre;overflow-x:auto;line-height:normal;font-family:Menlo,'DejaVu Sans Mono',consolas,'Courier New',monospace\"><span style=\"font-weight: bold\"> Total params: </span><span style=\"color: #00af00; text-decoration-color: #00af00\">7,797,732</span> (29.75 MB)\n",
       "</pre>\n"
      ],
      "text/plain": [
       "\u001b[1m Total params: \u001b[0m\u001b[38;5;34m7,797,732\u001b[0m (29.75 MB)\n"
      ]
     },
     "metadata": {},
     "output_type": "display_data"
    },
    {
     "data": {
      "text/html": [
       "<pre style=\"white-space:pre;overflow-x:auto;line-height:normal;font-family:Menlo,'DejaVu Sans Mono',consolas,'Courier New',monospace\"><span style=\"font-weight: bold\"> Trainable params: </span><span style=\"color: #00af00; text-decoration-color: #00af00\">7,797,732</span> (29.75 MB)\n",
       "</pre>\n"
      ],
      "text/plain": [
       "\u001b[1m Trainable params: \u001b[0m\u001b[38;5;34m7,797,732\u001b[0m (29.75 MB)\n"
      ]
     },
     "metadata": {},
     "output_type": "display_data"
    },
    {
     "data": {
      "text/html": [
       "<pre style=\"white-space:pre;overflow-x:auto;line-height:normal;font-family:Menlo,'DejaVu Sans Mono',consolas,'Courier New',monospace\"><span style=\"font-weight: bold\"> Non-trainable params: </span><span style=\"color: #00af00; text-decoration-color: #00af00\">0</span> (0.00 B)\n",
       "</pre>\n"
      ],
      "text/plain": [
       "\u001b[1m Non-trainable params: \u001b[0m\u001b[38;5;34m0\u001b[0m (0.00 B)\n"
      ]
     },
     "metadata": {},
     "output_type": "display_data"
    }
   ],
   "source": [
    "model.summary()"
   ]
  },
  {
   "cell_type": "markdown",
   "id": "35b6507d-d7a9-45a9-94b3-5141229f1dee",
   "metadata": {},
   "source": [
    "Model Training"
   ]
  },
  {
   "cell_type": "code",
   "execution_count": 65,
   "id": "bef2823f-8663-460e-84cf-fa08558b5490",
   "metadata": {},
   "outputs": [
    {
     "name": "stdout",
     "output_type": "stream",
     "text": [
      "Epoch 1/10\n",
      "\u001b[1m15/15\u001b[0m \u001b[32m━━━━━━━━━━━━━━━━━━━━\u001b[0m\u001b[37m\u001b[0m \u001b[1m76s\u001b[0m 5s/step - accuracy: 0.1501 - loss: 2.9264 - val_accuracy: 0.1611 - val_loss: 2.0576\n",
      "Epoch 2/10\n",
      "\u001b[1m15/15\u001b[0m \u001b[32m━━━━━━━━━━━━━━━━━━━━\u001b[0m\u001b[37m\u001b[0m \u001b[1m75s\u001b[0m 5s/step - accuracy: 0.1806 - loss: 2.0629 - val_accuracy: 0.3201 - val_loss: 1.9460\n",
      "Epoch 3/10\n",
      "\u001b[1m15/15\u001b[0m \u001b[32m━━━━━━━━━━━━━━━━━━━━\u001b[0m\u001b[37m\u001b[0m \u001b[1m78s\u001b[0m 5s/step - accuracy: 0.2592 - loss: 1.9663 - val_accuracy: 0.4059 - val_loss: 1.8164\n",
      "Epoch 4/10\n",
      "\u001b[1m15/15\u001b[0m \u001b[32m━━━━━━━━━━━━━━━━━━━━\u001b[0m\u001b[37m\u001b[0m \u001b[1m104s\u001b[0m 7s/step - accuracy: 0.3544 - loss: 1.8242 - val_accuracy: 0.4205 - val_loss: 1.6502\n",
      "Epoch 5/10\n",
      "\u001b[1m15/15\u001b[0m \u001b[32m━━━━━━━━━━━━━━━━━━━━\u001b[0m\u001b[37m\u001b[0m \u001b[1m122s\u001b[0m 6s/step - accuracy: 0.4324 - loss: 1.6386 - val_accuracy: 0.4247 - val_loss: 1.5587\n",
      "Epoch 6/10\n",
      "\u001b[1m15/15\u001b[0m \u001b[32m━━━━━━━━━━━━━━━━━━━━\u001b[0m\u001b[37m\u001b[0m \u001b[1m128s\u001b[0m 5s/step - accuracy: 0.4255 - loss: 1.5651 - val_accuracy: 0.5188 - val_loss: 1.3484\n",
      "Epoch 7/10\n",
      "\u001b[1m15/15\u001b[0m \u001b[32m━━━━━━━━━━━━━━━━━━━━\u001b[0m\u001b[37m\u001b[0m \u001b[1m68s\u001b[0m 5s/step - accuracy: 0.4839 - loss: 1.4416 - val_accuracy: 0.5335 - val_loss: 1.2921\n",
      "Epoch 8/10\n",
      "\u001b[1m15/15\u001b[0m \u001b[32m━━━━━━━━━━━━━━━━━━━━\u001b[0m\u001b[37m\u001b[0m \u001b[1m83s\u001b[0m 5s/step - accuracy: 0.4969 - loss: 1.3701 - val_accuracy: 0.5272 - val_loss: 1.2794\n",
      "Epoch 9/10\n",
      "\u001b[1m15/15\u001b[0m \u001b[32m━━━━━━━━━━━━━━━━━━━━\u001b[0m\u001b[37m\u001b[0m \u001b[1m70s\u001b[0m 5s/step - accuracy: 0.5946 - loss: 1.2376 - val_accuracy: 0.6255 - val_loss: 1.0137\n",
      "Epoch 10/10\n",
      "\u001b[1m15/15\u001b[0m \u001b[32m━━━━━━━━━━━━━━━━━━━━\u001b[0m\u001b[37m\u001b[0m \u001b[1m70s\u001b[0m 5s/step - accuracy: 0.5908 - loss: 1.1400 - val_accuracy: 0.7050 - val_loss: 0.8926\n"
     ]
    }
   ],
   "source": [
    "training_history=model.fit(x=training_set,validation_data=validation_set,epochs=10)"
   ]
  },
  {
   "cell_type": "code",
   "execution_count": 66,
   "id": "28f003bd-b110-41e2-bc29-5262a671593c",
   "metadata": {},
   "outputs": [],
   "source": [
    "model.save('trained_model.keras')"
   ]
  },
  {
   "cell_type": "code",
   "execution_count": 68,
   "id": "174d486b-94bc-41f7-8a00-cc91a51a598d",
   "metadata": {},
   "outputs": [
    {
     "data": {
      "text/plain": [
       "{'accuracy': [0.1485355645418167,\n",
       "  0.1736401617527008,\n",
       "  0.2552301287651062,\n",
       "  0.3472803235054016,\n",
       "  0.4142259359359741,\n",
       "  0.437238484621048,\n",
       "  0.4895397424697876,\n",
       "  0.4790794849395752,\n",
       "  0.5857740640640259,\n",
       "  0.5836820006370544],\n",
       " 'loss': [2.4856514930725098,\n",
       "  2.0480639934539795,\n",
       "  1.9372981786727905,\n",
       "  1.8190205097198486,\n",
       "  1.6418375968933105,\n",
       "  1.5432078838348389,\n",
       "  1.435928463935852,\n",
       "  1.4104764461517334,\n",
       "  1.232526183128357,\n",
       "  1.145682692527771],\n",
       " 'val_accuracy': [0.16108787059783936,\n",
       "  0.3200836777687073,\n",
       "  0.40585774183273315,\n",
       "  0.42050209641456604,\n",
       "  0.4246861934661865,\n",
       "  0.5188284516334534,\n",
       "  0.5334727764129639,\n",
       "  0.5271966457366943,\n",
       "  0.625523030757904,\n",
       "  0.7050209045410156],\n",
       " 'val_loss': [2.057619333267212,\n",
       "  1.9459667205810547,\n",
       "  1.8163912296295166,\n",
       "  1.6501880884170532,\n",
       "  1.5587475299835205,\n",
       "  1.3484368324279785,\n",
       "  1.2920588254928589,\n",
       "  1.2794057130813599,\n",
       "  1.0136535167694092,\n",
       "  0.892571747303009]}"
      ]
     },
     "execution_count": 68,
     "metadata": {},
     "output_type": "execute_result"
    }
   ],
   "source": [
    "training_history.history"
   ]
  },
  {
   "cell_type": "code",
   "execution_count": 69,
   "id": "eaf786af-ed6e-42f3-b8b0-5a24b0d55b55",
   "metadata": {},
   "outputs": [],
   "source": [
    "#Recording the history in json\n",
    "import json\n",
    "with open (\"training_hist.json\",\"w\") as f :\n",
    "    json.dump(training_history.history,f)"
   ]
  },
  {
   "cell_type": "code",
   "execution_count": null,
   "id": "54a87ab6-0918-409d-b3cd-0c5960092d3c",
   "metadata": {},
   "outputs": [],
   "source": []
  }
 ],
 "metadata": {
  "kernelspec": {
   "display_name": "Python 3 (ipykernel)",
   "language": "python",
   "name": "python3"
  },
  "language_info": {
   "codemirror_mode": {
    "name": "ipython",
    "version": 3
   },
   "file_extension": ".py",
   "mimetype": "text/x-python",
   "name": "python",
   "nbconvert_exporter": "python",
   "pygments_lexer": "ipython3",
   "version": "3.12.2"
  }
 },
 "nbformat": 4,
 "nbformat_minor": 5
}
